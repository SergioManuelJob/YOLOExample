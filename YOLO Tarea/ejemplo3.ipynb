{
 "cells": [
  {
   "cell_type": "code",
   "execution_count": 50,
   "metadata": {},
   "outputs": [
    {
     "name": "stdout",
     "output_type": "stream",
     "text": [
      "\n",
      "image 1/1 c:\\Users\\sergi\\Desktop\\YOLO Tarea\\imagen.jpg: 480x640 1 person, 1 horse, 3 zebras, 1 potted plant, 88.0ms\n",
      "Speed: 2.0ms preprocess, 88.0ms inference, 2.0ms postprocess per image at shape (1, 3, 480, 640)\n"
     ]
    }
   ],
   "source": [
    "import cv2\n",
    "from ultralytics import YOLO\n",
    "import numpy as np\n",
    "\n",
    "model = YOLO(\"yolov8n.pt\")\n",
    "results = model(\"imagen.jpg\", conf=0.3,iou=0.5)\n",
    "\n",
    "labels=[]\n",
    "# Process results list\n",
    "for result in results:\n",
    "    boxes = result.boxes.xyxy.tolist()\n",
    "    classes = result.boxes.cls.tolist()\n",
    "    names = result.names\n",
    "    confidences = result.boxes.conf.tolist()\n",
    "\n",
    "    # Dibujar las bounding boxes y etiquetas en la imagen original\n",
    "    for box, cls, conf in zip(boxes, classes, confidences):\n",
    "        x1, y1, x2, y2 = box\n",
    "        x1, x2, y1, y2 = int(x1), int(x2), int(y1), int(y2)  # Convertir a enteros\n",
    "        name = names[int(cls)]\n",
    "        confidence = round(conf, 2)\n",
    "        label = f\"{name}: {confidence}\"\n",
    "\n",
    "        # Dibujar bounding box y etiqueta en la imagen\n",
    "        cv2.rectangle(result.orig_img, (x1, y1), (x2, y2), (0, 255, 0), 2)\n",
    "        cv2.putText(result.orig_img, label, (x1, y1 - 10), cv2.FONT_HERSHEY_SIMPLEX, 0.5, (0, 255, 0), 2)\n",
    "\n",
    "    # Guardar la imagen con las bounding boxes y etiquetas\n",
    "    cv2.imwrite(\"original_image_with_boxes.jpg\", result.orig_img)"
   ]
  }
 ],
 "metadata": {
  "kernelspec": {
   "display_name": "Python 3",
   "language": "python",
   "name": "python3"
  },
  "language_info": {
   "codemirror_mode": {
    "name": "ipython",
    "version": 3
   },
   "file_extension": ".py",
   "mimetype": "text/x-python",
   "name": "python",
   "nbconvert_exporter": "python",
   "pygments_lexer": "ipython3",
   "version": "3.12.0"
  }
 },
 "nbformat": 4,
 "nbformat_minor": 2
}
